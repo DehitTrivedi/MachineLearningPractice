{
 "cells": [
  {
   "cell_type": "code",
   "execution_count": 1,
   "id": "5295d9be",
   "metadata": {},
   "outputs": [],
   "source": [
    "import torch.nn as nn\n",
    "import torch.nn.functional as F\n",
    "import torch.optim as optim\n",
    "import torch.utils.data\n",
    "from torch.utils.data import DataLoader\n",
    "from torchvision import datasets\n",
    "from torchvision.transforms import ToTensor\n",
    "\n",
    "#importing all the required libraries "
   ]
  },
  {
   "cell_type": "code",
   "execution_count": 2,
   "id": "36aa977c",
   "metadata": {},
   "outputs": [],
   "source": [
    "# Hyper Parameters #\n",
    "\n",
    "learning_rate = 1e-3\n",
    "num_epochs = 20\n",
    "batch_size = 256\n",
    "num_class = 10"
   ]
  },
  {
   "cell_type": "code",
   "execution_count": 3,
   "id": "0239ca7c",
   "metadata": {},
   "outputs": [],
   "source": [
    "class SimpleCNN(nn.Module):\n",
    "    \"\"\"\n",
    "    defining simple CNN with 2 convolution layers, 2 pooling layers and 2 fully-connected layers\n",
    "    \"\"\"\n",
    "    def __init__(self):\n",
    "        super(SimpleCNN, self).__init__()\n",
    "        # Network's Layers\n",
    "        self.conv1 = nn.Conv2d(1, 32, 5)\n",
    "        self.conv2 = nn.Conv2d(32, 64, 5)\n",
    "        self.max1 = nn.MaxPool2d(2, stride=2)\n",
    "        self.max2 = nn.MaxPool2d(2, stride=2)\n",
    "        self.fc1 = nn.Linear(1024, 512)\n",
    "        self.fc2 = nn.Linear(512, num_class)\n",
    "        # Dropout\n",
    "        self.dropout1 = nn.Dropout(0.45)\n",
    "        self.dropout2 = nn.Dropout(0.35)\n",
    "        # Batch Normalization\n",
    "        self.batch1 = nn.BatchNorm2d(32)\n",
    "        self.batch2 = nn.BatchNorm2d(64)\n",
    "\n",
    "    def forward(self, x):\n",
    "        x = self.conv1(x)                   # Convolution layer\n",
    "        x = F.relu(self.batch1(x))          # Batch Normalization + ReLU\n",
    "        x = self.max1(x)                    # Max-pool layer\n",
    "        x = self.dropout1(x)                # Dropout\n",
    "\n",
    "        x = self.conv2(x)                   # Convolution layer\n",
    "        x = F.relu(self.batch2(x))          # Batch Normalization + ReLU\n",
    "        x = self.max2(x)                    # Max-pool layer\n",
    "        x = self.dropout2(x)                # Dropout\n",
    "\n",
    "        x = x.reshape(-1, 1024)             # Flatten\n",
    "        x = F.relu(self.fc1(x))             # Fully-connected layer + ReLU\n",
    "        x = F.softmax(self.fc2(x), dim=0)   # Fully-connected layer + Softmax\n",
    "        return x"
   ]
  },
  {
   "cell_type": "code",
   "execution_count": 4,
   "id": "a75409b6",
   "metadata": {},
   "outputs": [
    {
     "name": "stdout",
     "output_type": "stream",
     "text": [
      "Using cpu \n",
      "\n"
     ]
    },
    {
     "data": {
      "text/plain": [
       "SimpleCNN(\n",
       "  (conv1): Conv2d(1, 32, kernel_size=(5, 5), stride=(1, 1))\n",
       "  (conv2): Conv2d(32, 64, kernel_size=(5, 5), stride=(1, 1))\n",
       "  (max1): MaxPool2d(kernel_size=2, stride=2, padding=0, dilation=1, ceil_mode=False)\n",
       "  (max2): MaxPool2d(kernel_size=2, stride=2, padding=0, dilation=1, ceil_mode=False)\n",
       "  (fc1): Linear(in_features=1024, out_features=512, bias=True)\n",
       "  (fc2): Linear(in_features=512, out_features=10, bias=True)\n",
       "  (dropout1): Dropout(p=0.45, inplace=False)\n",
       "  (dropout2): Dropout(p=0.35, inplace=False)\n",
       "  (batch1): BatchNorm2d(32, eps=1e-05, momentum=0.1, affine=True, track_running_stats=True)\n",
       "  (batch2): BatchNorm2d(64, eps=1e-05, momentum=0.1, affine=True, track_running_stats=True)\n",
       ")"
      ]
     },
     "execution_count": 4,
     "metadata": {},
     "output_type": "execute_result"
    }
   ],
   "source": [
    "# Set device\n",
    "device = torch.device('cuda' if torch.cuda.is_available() else 'cpu')\n",
    "print('Using', device, '\\n')\n",
    "\n",
    "net = SimpleCNN()\n",
    "net.to(device)\n"
   ]
  },
  {
   "cell_type": "code",
   "execution_count": 5,
   "id": "6ab61a78",
   "metadata": {},
   "outputs": [
    {
     "name": "stdout",
     "output_type": "stream",
     "text": [
      "Downloading http://yann.lecun.com/exdb/mnist/train-images-idx3-ubyte.gz\n",
      "Failed to download (trying next):\n",
      "<urlopen error [SSL: CERTIFICATE_VERIFY_FAILED] certificate verify failed: certificate has expired (_ssl.c:997)>\n",
      "\n",
      "Downloading https://ossci-datasets.s3.amazonaws.com/mnist/train-images-idx3-ubyte.gz\n",
      "Downloading https://ossci-datasets.s3.amazonaws.com/mnist/train-images-idx3-ubyte.gz to ./data/MNIST/raw/train-images-idx3-ubyte.gz\n"
     ]
    },
    {
     "name": "stderr",
     "output_type": "stream",
     "text": [
      "100%|████████████████████████████| 9912422/9912422 [00:01<00:00, 8249928.22it/s]\n"
     ]
    },
    {
     "name": "stdout",
     "output_type": "stream",
     "text": [
      "Extracting ./data/MNIST/raw/train-images-idx3-ubyte.gz to ./data/MNIST/raw\n",
      "\n",
      "Downloading http://yann.lecun.com/exdb/mnist/train-labels-idx1-ubyte.gz\n",
      "Failed to download (trying next):\n",
      "<urlopen error [SSL: CERTIFICATE_VERIFY_FAILED] certificate verify failed: certificate has expired (_ssl.c:997)>\n",
      "\n",
      "Downloading https://ossci-datasets.s3.amazonaws.com/mnist/train-labels-idx1-ubyte.gz\n",
      "Downloading https://ossci-datasets.s3.amazonaws.com/mnist/train-labels-idx1-ubyte.gz to ./data/MNIST/raw/train-labels-idx1-ubyte.gz\n"
     ]
    },
    {
     "name": "stderr",
     "output_type": "stream",
     "text": [
      "100%|█████████████████████████████████| 28881/28881 [00:00<00:00, 350426.24it/s]\n"
     ]
    },
    {
     "name": "stdout",
     "output_type": "stream",
     "text": [
      "Extracting ./data/MNIST/raw/train-labels-idx1-ubyte.gz to ./data/MNIST/raw\n",
      "\n",
      "Downloading http://yann.lecun.com/exdb/mnist/t10k-images-idx3-ubyte.gz\n",
      "Failed to download (trying next):\n",
      "<urlopen error [SSL: CERTIFICATE_VERIFY_FAILED] certificate verify failed: certificate has expired (_ssl.c:997)>\n",
      "\n",
      "Downloading https://ossci-datasets.s3.amazonaws.com/mnist/t10k-images-idx3-ubyte.gz\n",
      "Downloading https://ossci-datasets.s3.amazonaws.com/mnist/t10k-images-idx3-ubyte.gz to ./data/MNIST/raw/t10k-images-idx3-ubyte.gz\n"
     ]
    },
    {
     "name": "stderr",
     "output_type": "stream",
     "text": [
      "100%|████████████████████████████| 1648877/1648877 [00:00<00:00, 3149205.47it/s]\n"
     ]
    },
    {
     "name": "stdout",
     "output_type": "stream",
     "text": [
      "Extracting ./data/MNIST/raw/t10k-images-idx3-ubyte.gz to ./data/MNIST/raw\n",
      "\n",
      "Downloading http://yann.lecun.com/exdb/mnist/t10k-labels-idx1-ubyte.gz\n",
      "Failed to download (trying next):\n",
      "<urlopen error [SSL: CERTIFICATE_VERIFY_FAILED] certificate verify failed: certificate has expired (_ssl.c:997)>\n",
      "\n",
      "Downloading https://ossci-datasets.s3.amazonaws.com/mnist/t10k-labels-idx1-ubyte.gz\n",
      "Downloading https://ossci-datasets.s3.amazonaws.com/mnist/t10k-labels-idx1-ubyte.gz to ./data/MNIST/raw/t10k-labels-idx1-ubyte.gz\n"
     ]
    },
    {
     "name": "stderr",
     "output_type": "stream",
     "text": [
      "100%|██████████████████████████████████| 4542/4542 [00:00<00:00, 1130729.39it/s]"
     ]
    },
    {
     "name": "stdout",
     "output_type": "stream",
     "text": [
      "Extracting ./data/MNIST/raw/t10k-labels-idx1-ubyte.gz to ./data/MNIST/raw\n",
      "\n"
     ]
    },
    {
     "name": "stderr",
     "output_type": "stream",
     "text": [
      "\n"
     ]
    }
   ],
   "source": [
    "# Data #\n",
    "\"\"\"\n",
    "MNIST datasets from torchvision.datasets\n",
    "\"\"\"\n",
    "train_dataset = datasets.MNIST(root='./data', train=True,\n",
    "                               download=True, transform=ToTensor())\n",
    "train_loader = DataLoader(train_dataset, batch_size=batch_size, shuffle=True)\n",
    "\n",
    "test_dataset = datasets.MNIST(root='./data', train=False,\n",
    "                              download=True, transform=ToTensor())\n",
    "test_loader = DataLoader(test_dataset, batch_size=batch_size, shuffle=False)"
   ]
  },
  {
   "cell_type": "code",
   "execution_count": 6,
   "id": "53ef1f27",
   "metadata": {},
   "outputs": [],
   "source": [
    "# Loss & Optimization #\n",
    "criterion = nn.CrossEntropyLoss()\n",
    "optimizer = optim.Adam(net.parameters(), lr=learning_rate)"
   ]
  },
  {
   "cell_type": "code",
   "execution_count": 7,
   "id": "8ea3e8f2",
   "metadata": {},
   "outputs": [
    {
     "name": "stdout",
     "output_type": "stream",
     "text": [
      "epoch #1\n",
      "Train Accuracy: 80.617\n",
      "epoch #2\n",
      "Train Accuracy: 85.842\n",
      "epoch #3\n",
      "Train Accuracy: 91.422\n",
      "epoch #4\n",
      "Train Accuracy: 93.188\n",
      "epoch #5\n",
      "Train Accuracy: 93.933\n",
      "epoch #6\n",
      "Train Accuracy: 94.500\n",
      "epoch #7\n",
      "Train Accuracy: 94.813\n",
      "epoch #8\n",
      "Train Accuracy: 95.137\n",
      "epoch #9\n",
      "Train Accuracy: 95.412\n",
      "epoch #10\n",
      "Train Accuracy: 95.620\n",
      "epoch #11\n",
      "Train Accuracy: 95.735\n",
      "epoch #12\n",
      "Train Accuracy: 96.008\n",
      "epoch #13\n",
      "Train Accuracy: 96.083\n",
      "epoch #14\n",
      "Train Accuracy: 96.003\n",
      "epoch #15\n",
      "Train Accuracy: 96.143\n",
      "epoch #16\n",
      "Train Accuracy: 95.938\n",
      "epoch #17\n",
      "Train Accuracy: 95.860\n",
      "epoch #18\n",
      "Train Accuracy: 96.292\n",
      "epoch #19\n",
      "Train Accuracy: 96.225\n",
      "epoch #20\n",
      "Train Accuracy: 96.407\n"
     ]
    }
   ],
   "source": [
    "# Train #\n",
    "for epoch in range(num_epochs):\n",
    "    correct_train = 0\n",
    "    total_train = 0\n",
    "\n",
    "    net.train()  # training mode\n",
    "    print('epoch #{}' .format(epoch+1))\n",
    "    for i, (inputs, labels) in enumerate(train_loader):\n",
    "        inputs.to(device), labels.to(device)\n",
    "\n",
    "        # set gradient's parameter to zero\n",
    "        optimizer.zero_grad()\n",
    "\n",
    "        # forward pass & back propagation\n",
    "        outputs = net(inputs)\n",
    "        loss = criterion(outputs, labels)\n",
    "        loss.backward()\n",
    "        optimizer.step()\n",
    "\n",
    "        # accuracy calculation\n",
    "        _, predicted = torch.max(outputs.data, 1)\n",
    "        correct_train += (predicted == labels).sum().item()\n",
    "        total_train += labels.size(0)\n",
    "\n",
    "    print('Train Accuracy: %0.3f' % ((100 * correct_train) / total_train))"
   ]
  },
  {
   "cell_type": "code",
   "execution_count": 8,
   "id": "4c6fdb31",
   "metadata": {},
   "outputs": [
    {
     "name": "stdout",
     "output_type": "stream",
     "text": [
      "\n",
      "Test Accuracy: 97.500\n"
     ]
    }
   ],
   "source": [
    "# Test #\n",
    "net.eval()\n",
    "correct_test = 0\n",
    "total_test = 0\n",
    "\n",
    "with torch.no_grad():\n",
    "    for i, (inputs, labels) in enumerate(test_loader):\n",
    "        inputs.to(device), labels.to(device)\n",
    "\n",
    "        outputs = net(inputs)\n",
    "        loss = criterion(outputs, labels)\n",
    "    \n",
    "        # test accuracy calculation\n",
    "        _, predicted = torch.max(outputs.data, 1)\n",
    "        correct_test += (predicted == labels).sum().item()\n",
    "        total_test += labels.size(0)\n",
    "\n",
    "print('\\nTest Accuracy: %0.3f' % ((100 * correct_test) / total_test))"
   ]
  },
  {
   "cell_type": "code",
   "execution_count": null,
   "id": "338b52ab",
   "metadata": {},
   "outputs": [],
   "source": []
  }
 ],
 "metadata": {
  "kernelspec": {
   "display_name": "Python 3 (ipykernel)",
   "language": "python",
   "name": "python3"
  },
  "language_info": {
   "codemirror_mode": {
    "name": "ipython",
    "version": 3
   },
   "file_extension": ".py",
   "mimetype": "text/x-python",
   "name": "python",
   "nbconvert_exporter": "python",
   "pygments_lexer": "ipython3",
   "version": "3.10.9"
  }
 },
 "nbformat": 4,
 "nbformat_minor": 5
}
